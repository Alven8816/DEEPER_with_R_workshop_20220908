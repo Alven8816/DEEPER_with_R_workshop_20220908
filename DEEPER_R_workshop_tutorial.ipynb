{
  "nbformat": 4,
  "nbformat_minor": 0,
  "metadata": {
    "colab": {
      "provenance": [],
      "collapsed_sections": [],
      "authorship_tag": "ABX9TyPGw+NN3XirwhbzIhQG7so9",
      "include_colab_link": true
    },
    "kernelspec": {
      "name": "ir",
      "display_name": "R"
    },
    "language_info": {
      "name": "R"
    },
    "gpuClass": "standard"
  },
  "cells": [
    {
      "cell_type": "markdown",
      "metadata": {
        "id": "view-in-github",
        "colab_type": "text"
      },
      "source": [
        "<a href=\"https://colab.research.google.com/github/Alven8816/DEEPER_with_R_workshop_20220908/blob/main/DEEPER_R_workshop_tutorial.ipynb\" target=\"_parent\"><img src=\"https://colab.research.google.com/assets/colab-badge.svg\" alt=\"Open In Colab\"/></a>"
      ]
    },
    {
      "cell_type": "markdown",
      "source": [
        "# **Deep ensemble machine learning (DEML) for estimating environmental exposure - Session 2**"
      ],
      "metadata": {
        "id": "koFk79fbzLdV"
      }
    },
    {
      "cell_type": "markdown",
      "source": [
        "Wenhua(Alven) Yu; Liam Liu"
      ],
      "metadata": {
        "id": "WodnimKozUAE"
      }
    },
    {
      "cell_type": "markdown",
      "source": [
        "2022-09-08"
      ],
      "metadata": {
        "id": "2CZJeLuV1E7t"
      }
    },
    {
      "cell_type": "code",
      "source": [
        "# check the package installation\n",
        "install.packages(\"pacman\")\n",
        "library(pacman)\n",
        "p_load(\"devtools\",\"SuperLearner\",\"ranger\",\"CAST\",\"caret\",\"skimr\",\"gbm\",\"xgboost\",\"hexbin\")\n",
        "# about 9 minutes"
      ],
      "metadata": {
        "id": "LBI-8c86Px3-"
      },
      "execution_count": null,
      "outputs": []
    },
    {
      "cell_type": "markdown",
      "source": [
        "# R package 'deeper' install\n",
        "\n",
        "Before installation, please make sure:\n",
        "\n",
        "-   using R (\\>= 3.5.0)\n",
        "\n",
        "-   installed certain dependent R packages: devtools, SuperLearner(\\>= 2.0-28)\n",
        "\n",
        "-   installed other suggested R packages: caret, skimr, CAST, ranger, gbm, xgboost, (nnls, foreach,splines, gam)\n",
        "\n",
        "\n",
        "The developing version of deeper can be found from [github](https://github.com/Alven8816/deeper).\n",
        "\n",
        "Using the following syntax to install:\n",
        "\n",
        "``` {.r}\n",
        "library(devtools)\n",
        "install_github(\"Alven8816/deeper\")\n",
        "```"
      ],
      "metadata": {
        "id": "1rhKVRO9IfWW"
      }
    },
    {
      "cell_type": "code",
      "source": [
        "library(devtools)"
      ],
      "metadata": {
        "id": "M4gjhuSHGqDE"
      },
      "execution_count": 3,
      "outputs": []
    },
    {
      "cell_type": "code",
      "source": [
        "install_github(\"Alven8816/deeper\")"
      ],
      "metadata": {
        "id": "LQlWP2apGwHs"
      },
      "execution_count": null,
      "outputs": []
    },
    {
      "cell_type": "code",
      "source": [
        "library(deeper)"
      ],
      "metadata": {
        "id": "xzs3dQUBHCt5"
      },
      "execution_count": null,
      "outputs": []
    },
    {
      "cell_type": "markdown",
      "source": [
        "# Activity\n",
        "\n",
        "Getting access to the Google Colab or install deeper R package in your local computer.\n"
      ],
      "metadata": {
        "id": "fsUPw0HKOcZF"
      }
    },
    {
      "cell_type": "markdown",
      "source": [
        "# Basic steps for DEML\n",
        "\n",
        "* **Step 1.  Data preparation**\n",
        "\n",
        "Including data collection, data clean, setting trianing and testing dataset, and independent variables selection.\n",
        "\n",
        "**Note: DEML could not directly deal with missing values and missing value imputation technologies is recommended prior to the use of the DEML model.**\n",
        "\n",
        "    \n",
        "* **Step 2.  Establish base models**\n",
        "\n",
        "Using predictModel() or predictModel_parallel() to establish the base models. A tuningModel() function can be used to tuning the parameters to get the best single base model.\n",
        "\n",
        "* **Step 3.  Stacking meta models**\n",
        "\n",
        "We use stack_ensemble(),stack_ensemble.fit(), or stack_ensemble_parallel() function to stack the meta models to get a DEML model.\n",
        "\n",
        "\n",
        "* **Step 4.  Prediction based on new data set**\n",
        "\n",
        "After establishment of DEML model, the predict() can be used predict the unseen data set.\n",
        "\n",
        "To assess the performance of the models, assess.plot() can be used by comparing the original observations (y in test set) and the prediction. The assess.plot() also return the point scatter plot.\n"
      ],
      "metadata": {
        "id": "HY1PgJ_qRGq5"
      }
    },
    {
      "cell_type": "markdown",
      "source": [
        "# Algorithms selection"
      ],
      "metadata": {
        "id": "K-02cD5uIuBL"
      }
    },
    {
      "cell_type": "code",
      "source": [
        "data(model_list)\n",
        "print(model_details)"
      ],
      "metadata": {
        "id": "mWvL9WOcHW4Q",
        "colab": {
          "base_uri": "https://localhost:8080/"
        },
        "outputId": "37df1434-03be-46fe-d229-e749c0faae54"
      },
      "execution_count": 6,
      "outputs": [
        {
          "output_type": "stream",
          "name": "stdout",
          "text": [
            "\u001b[90m# A tibble: 35 × 4\u001b[39m\n",
            "   parameter          algorithm                                  require…¹ types\n",
            "   \u001b[3m\u001b[90m<chr>\u001b[39m\u001b[23m              \u001b[3m\u001b[90m<chr>\u001b[39m\u001b[23m                                     \u001b[3m\u001b[90m<chr>\u001b[39m\u001b[23m      \u001b[3m\u001b[90m<chr>\u001b[39m\u001b[23m\n",
            "\u001b[90m 1\u001b[39m SL.bayesglm        Bayesian generalized linear regression    arm        R    \n",
            "\u001b[90m 2\u001b[39m SL.biglasso        Extending Lasso Model Fitting to Big Data biglasso   R    \n",
            "\u001b[90m 3\u001b[39m SL.caret           random Forest as default                  caret      R    \n",
            "\u001b[90m 4\u001b[39m SL.caret.rpart     decision trees as default                 caret      R    \n",
            "\u001b[90m 5\u001b[39m SL.cforest         Breiman's random forests                  party      R    \n",
            "\u001b[90m 6\u001b[39m SL.earth           Multivariate Adaptive Regression Splines  earth      R    \n",
            "\u001b[90m 7\u001b[39m SL.gam             generalized additive models               gam        N    \n",
            "\u001b[90m 8\u001b[39m SL.gbm             generalized boosting algorithm            gbm        R    \n",
            "\u001b[90m 9\u001b[39m SL.glm             generalized linear models                 \u001b[31mNA\u001b[39m         R    \n",
            "\u001b[90m10\u001b[39m SL.glm.interaction generalized linear models                 \u001b[31mNA\u001b[39m         R    \n",
            "\u001b[90m# … with 25 more rows, and abbreviated variable name ¹​` required package`\u001b[39m\n"
          ]
        }
      ]
    },
    {
      "cell_type": "markdown",
      "source": [
        "In the 'type' column, \"R\": can be used for regression or classification;\"N\": can be used for regression but variables require to be numeric style; \"C\": just used in classification.\n"
      ],
      "metadata": {
        "id": "QHZptRR7RSrJ"
      }
    },
    {
      "cell_type": "markdown",
      "source": [
        "# Example\n",
        "\n",
        "*To estimate the daily ambient PM2.5 in the northeast of China in 2015-2016.*\n",
        "\n",
        "## 1.Data preparation"
      ],
      "metadata": {
        "id": "QOAMwAw2LLyf"
      }
    },
    {
      "cell_type": "code",
      "source": [
        "data(\"envir_example\")\n",
        "\n",
        "knitr::kable(head(envir_example))"
      ],
      "metadata": {
        "id": "XCNVAhwMNeVG",
        "colab": {
          "base_uri": "https://localhost:8080/",
          "height": 191
        },
        "outputId": "81eb9ac2-4a61-42b5-efbd-dd1a6a278ad8"
      },
      "execution_count": 7,
      "outputs": [
        {
          "output_type": "display_data",
          "data": {
            "text/plain": [
              "\n",
              "\n",
              "|date      |code  |year |month |week |     PM2.5|     c_AOD|      TEMP|        AP|       RH| elevation|        WS| a_buffer10|\n",
              "|:---------|:-----|:----|:-----|:----|---------:|---------:|---------:|---------:|--------:|---------:|---------:|----------:|\n",
              "|2/01/2015 |1001A |2015 |1     |5    |  51.26087| 0.2191133| -2.757819| 1012.1792| 30.50154|        45| 1.6981146|         68|\n",
              "|3/01/2015 |1001A |2015 |1     |6    | 154.04167| 0.9245346| -3.757023| 1000.7333| 43.59143|        45| 0.9536832|         68|\n",
              "|4/01/2015 |1001A |2015 |1     |0    | 151.91667| 0.3927248| -1.298150|  999.6592| 43.22169|        45| 1.3580554|         68|\n",
              "|6/01/2015 |1001A |2015 |1     |2    |  39.54545| 0.3009302| -2.218822| 1010.8966| 20.39437|        45| 2.7473587|         68|\n",
              "|8/01/2015 |1001A |2015 |1     |4    | 148.38095| 1.0532465| -3.522646| 1012.8126| 54.77821|        45| 1.1803217|         68|\n",
              "|9/01/2015 |1001A |2015 |1     |5    |  87.78261| 0.1762094| -1.593402| 1011.9749| 37.70417|        45| 2.1804410|         68|"
            ]
          },
          "metadata": {}
        }
      ]
    },
    {
      "cell_type": "markdown",
      "source": [
        "## 1.1 Data clean\n",
        "\n",
        "The basic data clean strategies include:\n",
        "\n",
        "1.  Variable type setting\n",
        "\n",
        "2.  Extreme value (outliers) detection\n",
        "\n",
        "3.  Missing value operation (imputation, drop)\n",
        "\n",
        "4.  Data transforming (normalization/standardization, eg. scale, centralize,log-transform and others)\n",
        "\n",
        "``` {.r}\n",
        "# skim the data missing value and distribmution\n",
        "skimr::skim(envir_example)\n",
        "```\n"
      ],
      "metadata": {
        "id": "VhOkPdIVNtQW"
      }
    },
    {
      "cell_type": "code",
      "source": [
        "dis_test <- skimr::skim(envir_example)\n",
        "\n",
        "print(head(dis_test,10))"
      ],
      "metadata": {
        "id": "4lM6IjxeSogr",
        "colab": {
          "base_uri": "https://localhost:8080/",
          "height": 1000
        },
        "outputId": "ed404c7d-5f10-4d36-a33f-e6f6d6c714f8"
      },
      "execution_count": 8,
      "outputs": [
        {
          "output_type": "stream",
          "name": "stdout",
          "text": [
            "── Data Summary ────────────────────────\n",
            "                           Values       \n",
            "Name                       envir_example\n",
            "Number of rows             2970         \n",
            "Number of columns          13           \n",
            "_______________________                 \n",
            "Column type frequency:                  \n",
            "  character                1            \n",
            "  factor                   4            \n",
            "  numeric                  5            \n",
            "________________________                \n",
            "Group variables            None         \n",
            "\n",
            "── Variable type: character ────────────────────────────────────────────────────\n",
            "  skim_variable n_missing complete_rate min max empty n_unique whitespace\n",
            "\u001b[90m1\u001b[39m date                  0             1   9  10     0      501          0\n",
            "\n",
            "── Variable type: factor ───────────────────────────────────────────────────────\n",
            "  skim_variable n_missing complete_rate ordered n_unique\n",
            "\u001b[90m1\u001b[39m code                  0             1 FALSE          7\n",
            "\u001b[90m2\u001b[39m year                  0             1 FALSE          2\n",
            "\u001b[90m3\u001b[39m month                 0             1 FALSE         12\n",
            "\u001b[90m4\u001b[39m week                  0             1 FALSE          7\n",
            "  top_counts                            \n",
            "\u001b[90m1\u001b[39m 100: 436, 100: 432, 100: 427, 100: 427\n",
            "\u001b[90m2\u001b[39m 201: 1511, 201: 1459                  \n",
            "\u001b[90m3\u001b[39m 3: 316, 1: 309, 4: 289, 12: 279       \n",
            "\u001b[90m4\u001b[39m 2: 445, 4: 439, 1: 435, 5: 430        \n",
            "\n",
            "── Variable type: numeric ──────────────────────────────────────────────────────\n",
            "  skim_variable n_missing complete_rate    mean     sd       p0     p25     p50\n",
            "\u001b[90m1\u001b[39m PM2.5                 0             1  70.9   65.2     4.62    23.9    52.3  \n",
            "\u001b[90m2\u001b[39m c_AOD                 0             1   0.674  0.673   0.021\u001b[4m2\u001b[24m   0.219   0.412\n",
            "\u001b[90m3\u001b[39m TEMP                  0             1  11.3   11.3   -\u001b[31m12\u001b[39m\u001b[31m.\u001b[39m\u001b[31m1\u001b[39m      0.114  12.7  \n",
            "\u001b[90m4\u001b[39m AP                    0             1 995.    18.3   939.     989.    998.   \n",
            "\u001b[90m5\u001b[39m RH                    0             1  50.6   17.3     9.73    37.1    50.2  \n",
            "       p75    p100 hist \n",
            "\u001b[90m1\u001b[39m   97.9    450    ▇▂▁▁▁\n",
            "\u001b[90m2\u001b[39m    0.887    3.56 ▇▂▁▁▁\n",
            "\u001b[90m3\u001b[39m   21.9     31.5  ▃▇▅▇▆\n",
            "\u001b[90m4\u001b[39m \u001b[4m1\u001b[24m008.    \u001b[4m1\u001b[24m029.   ▁▁▃▇▃\n",
            "\u001b[90m5\u001b[39m   65.0     88.8  ▂▇▇▇▃\n"
          ]
        },
        {
          "output_type": "display_data",
          "data": {
            "text/html": [
              "<dl>\n",
              "\t<dt>$character</dt>\n",
              "\t\t<dd><table class=\"dataframe\">\n",
              "<caption>A one_skim_df: 1 × 8</caption>\n",
              "<thead>\n",
              "\t<tr><th></th><th scope=col>skim_variable</th><th scope=col>n_missing</th><th scope=col>complete_rate</th><th scope=col>min</th><th scope=col>max</th><th scope=col>empty</th><th scope=col>n_unique</th><th scope=col>whitespace</th></tr>\n",
              "\t<tr><th></th><th scope=col>&lt;chr&gt;</th><th scope=col>&lt;int&gt;</th><th scope=col>&lt;dbl&gt;</th><th scope=col>&lt;int&gt;</th><th scope=col>&lt;int&gt;</th><th scope=col>&lt;int&gt;</th><th scope=col>&lt;int&gt;</th><th scope=col>&lt;int&gt;</th></tr>\n",
              "</thead>\n",
              "<tbody>\n",
              "\t<tr><th scope=row>1</th><td>date</td><td>0</td><td>1</td><td>9</td><td>10</td><td>0</td><td>501</td><td>0</td></tr>\n",
              "</tbody>\n",
              "</table>\n",
              "</dd>\n",
              "\t<dt>$factor</dt>\n",
              "\t\t<dd><table class=\"dataframe\">\n",
              "<caption>A one_skim_df: 4 × 6</caption>\n",
              "<thead>\n",
              "\t<tr><th></th><th scope=col>skim_variable</th><th scope=col>n_missing</th><th scope=col>complete_rate</th><th scope=col>ordered</th><th scope=col>n_unique</th><th scope=col>top_counts</th></tr>\n",
              "\t<tr><th></th><th scope=col>&lt;chr&gt;</th><th scope=col>&lt;int&gt;</th><th scope=col>&lt;dbl&gt;</th><th scope=col>&lt;lgl&gt;</th><th scope=col>&lt;int&gt;</th><th scope=col>&lt;chr&gt;</th></tr>\n",
              "</thead>\n",
              "<tbody>\n",
              "\t<tr><th scope=row>1</th><td>code </td><td>0</td><td>1</td><td>FALSE</td><td> 7</td><td>100: 436, 100: 432, 100: 427, 100: 427</td></tr>\n",
              "\t<tr><th scope=row>2</th><td>year </td><td>0</td><td>1</td><td>FALSE</td><td> 2</td><td>201: 1511, 201: 1459                  </td></tr>\n",
              "\t<tr><th scope=row>3</th><td>month</td><td>0</td><td>1</td><td>FALSE</td><td>12</td><td>3: 316, 1: 309, 4: 289, 12: 279       </td></tr>\n",
              "\t<tr><th scope=row>4</th><td>week </td><td>0</td><td>1</td><td>FALSE</td><td> 7</td><td>2: 445, 4: 439, 1: 435, 5: 430        </td></tr>\n",
              "</tbody>\n",
              "</table>\n",
              "</dd>\n",
              "\t<dt>$numeric</dt>\n",
              "\t\t<dd><table class=\"dataframe\">\n",
              "<caption>A one_skim_df: 5 × 11</caption>\n",
              "<thead>\n",
              "\t<tr><th></th><th scope=col>skim_variable</th><th scope=col>n_missing</th><th scope=col>complete_rate</th><th scope=col>mean</th><th scope=col>sd</th><th scope=col>p0</th><th scope=col>p25</th><th scope=col>p50</th><th scope=col>p75</th><th scope=col>p100</th><th scope=col>hist</th></tr>\n",
              "\t<tr><th></th><th scope=col>&lt;chr&gt;</th><th scope=col>&lt;int&gt;</th><th scope=col>&lt;dbl&gt;</th><th scope=col>&lt;dbl&gt;</th><th scope=col>&lt;dbl&gt;</th><th scope=col>&lt;dbl&gt;</th><th scope=col>&lt;dbl&gt;</th><th scope=col>&lt;dbl&gt;</th><th scope=col>&lt;dbl&gt;</th><th scope=col>&lt;dbl&gt;</th><th scope=col>&lt;chr&gt;</th></tr>\n",
              "</thead>\n",
              "<tbody>\n",
              "\t<tr><th scope=row>1</th><td>PM2.5</td><td>0</td><td>1</td><td> 70.9060220</td><td>65.2264536</td><td>  4.62500000</td><td> 23.9154125</td><td> 52.3405800</td><td>  97.9219350</td><td> 450.000000</td><td>▇▂▁▁▁</td></tr>\n",
              "\t<tr><th scope=row>2</th><td>c_AOD</td><td>0</td><td>1</td><td>  0.6743631</td><td> 0.6727058</td><td>  0.02121083</td><td>  0.2191133</td><td>  0.4121369</td><td>   0.8873678</td><td>   3.562631</td><td>▇▂▁▁▁</td></tr>\n",
              "\t<tr><th scope=row>3</th><td>TEMP </td><td>0</td><td>1</td><td> 11.2723604</td><td>11.3385907</td><td>-12.11607000</td><td>  0.1136484</td><td> 12.7025250</td><td>  21.9393125</td><td>  31.457240</td><td>▃▇▅▇▆</td></tr>\n",
              "\t<tr><th scope=row>4</th><td>AP   </td><td>0</td><td>1</td><td>995.0750959</td><td>18.2763409</td><td>939.35136800</td><td>989.3052500</td><td>998.3992768</td><td>1007.6977500</td><td>1028.826000</td><td>▁▁▃▇▃</td></tr>\n",
              "\t<tr><th scope=row>5</th><td>RH   </td><td>0</td><td>1</td><td> 50.6296481</td><td>17.2962454</td><td>  9.72653456</td><td> 37.0803125</td><td> 50.1837096</td><td>  64.9926675</td><td>  88.755170</td><td>▂▇▇▇▃</td></tr>\n",
              "</tbody>\n",
              "</table>\n",
              "</dd>\n",
              "</dl>\n"
            ],
            "text/markdown": "$character\n:   \nA one_skim_df: 1 × 8\n\n| <!--/--> | skim_variable &lt;chr&gt; | n_missing &lt;int&gt; | complete_rate &lt;dbl&gt; | min &lt;int&gt; | max &lt;int&gt; | empty &lt;int&gt; | n_unique &lt;int&gt; | whitespace &lt;int&gt; |\n|---|---|---|---|---|---|---|---|---|\n| 1 | date | 0 | 1 | 9 | 10 | 0 | 501 | 0 |\n\n\n$factor\n:   \nA one_skim_df: 4 × 6\n\n| <!--/--> | skim_variable &lt;chr&gt; | n_missing &lt;int&gt; | complete_rate &lt;dbl&gt; | ordered &lt;lgl&gt; | n_unique &lt;int&gt; | top_counts &lt;chr&gt; |\n|---|---|---|---|---|---|---|\n| 1 | code  | 0 | 1 | FALSE |  7 | 100: 436, 100: 432, 100: 427, 100: 427 |\n| 2 | year  | 0 | 1 | FALSE |  2 | 201: 1511, 201: 1459                   |\n| 3 | month | 0 | 1 | FALSE | 12 | 3: 316, 1: 309, 4: 289, 12: 279        |\n| 4 | week  | 0 | 1 | FALSE |  7 | 2: 445, 4: 439, 1: 435, 5: 430         |\n\n\n$numeric\n:   \nA one_skim_df: 5 × 11\n\n| <!--/--> | skim_variable &lt;chr&gt; | n_missing &lt;int&gt; | complete_rate &lt;dbl&gt; | mean &lt;dbl&gt; | sd &lt;dbl&gt; | p0 &lt;dbl&gt; | p25 &lt;dbl&gt; | p50 &lt;dbl&gt; | p75 &lt;dbl&gt; | p100 &lt;dbl&gt; | hist &lt;chr&gt; |\n|---|---|---|---|---|---|---|---|---|---|---|---|\n| 1 | PM2.5 | 0 | 1 |  70.9060220 | 65.2264536 |   4.62500000 |  23.9154125 |  52.3405800 |   97.9219350 |  450.000000 | ▇▂▁▁▁ |\n| 2 | c_AOD | 0 | 1 |   0.6743631 |  0.6727058 |   0.02121083 |   0.2191133 |   0.4121369 |    0.8873678 |    3.562631 | ▇▂▁▁▁ |\n| 3 | TEMP  | 0 | 1 |  11.2723604 | 11.3385907 | -12.11607000 |   0.1136484 |  12.7025250 |   21.9393125 |   31.457240 | ▃▇▅▇▆ |\n| 4 | AP    | 0 | 1 | 995.0750959 | 18.2763409 | 939.35136800 | 989.3052500 | 998.3992768 | 1007.6977500 | 1028.826000 | ▁▁▃▇▃ |\n| 5 | RH    | 0 | 1 |  50.6296481 | 17.2962454 |   9.72653456 |  37.0803125 |  50.1837096 |   64.9926675 |   88.755170 | ▂▇▇▇▃ |\n\n\n\n\n",
            "text/latex": "\\begin{description}\n\\item[\\$character] A one\\_skim\\_df: 1 × 8\n\\begin{tabular}{r|llllllll}\n  & skim\\_variable & n\\_missing & complete\\_rate & min & max & empty & n\\_unique & whitespace\\\\\n  & <chr> & <int> & <dbl> & <int> & <int> & <int> & <int> & <int>\\\\\n\\hline\n\t1 & date & 0 & 1 & 9 & 10 & 0 & 501 & 0\\\\\n\\end{tabular}\n\n\\item[\\$factor] A one\\_skim\\_df: 4 × 6\n\\begin{tabular}{r|llllll}\n  & skim\\_variable & n\\_missing & complete\\_rate & ordered & n\\_unique & top\\_counts\\\\\n  & <chr> & <int> & <dbl> & <lgl> & <int> & <chr>\\\\\n\\hline\n\t1 & code  & 0 & 1 & FALSE &  7 & 100: 436, 100: 432, 100: 427, 100: 427\\\\\n\t2 & year  & 0 & 1 & FALSE &  2 & 201: 1511, 201: 1459                  \\\\\n\t3 & month & 0 & 1 & FALSE & 12 & 3: 316, 1: 309, 4: 289, 12: 279       \\\\\n\t4 & week  & 0 & 1 & FALSE &  7 & 2: 445, 4: 439, 1: 435, 5: 430        \\\\\n\\end{tabular}\n\n\\item[\\$numeric] A one\\_skim\\_df: 5 × 11\n\\begin{tabular}{r|lllllllllll}\n  & skim\\_variable & n\\_missing & complete\\_rate & mean & sd & p0 & p25 & p50 & p75 & p100 & hist\\\\\n  & <chr> & <int> & <dbl> & <dbl> & <dbl> & <dbl> & <dbl> & <dbl> & <dbl> & <dbl> & <chr>\\\\\n\\hline\n\t1 & PM2.5 & 0 & 1 &  70.9060220 & 65.2264536 &   4.62500000 &  23.9154125 &  52.3405800 &   97.9219350 &  450.000000 & ▇▂▁▁▁\\\\\n\t2 & c\\_AOD & 0 & 1 &   0.6743631 &  0.6727058 &   0.02121083 &   0.2191133 &   0.4121369 &    0.8873678 &    3.562631 & ▇▂▁▁▁\\\\\n\t3 & TEMP  & 0 & 1 &  11.2723604 & 11.3385907 & -12.11607000 &   0.1136484 &  12.7025250 &   21.9393125 &   31.457240 & ▃▇▅▇▆\\\\\n\t4 & AP    & 0 & 1 & 995.0750959 & 18.2763409 & 939.35136800 & 989.3052500 & 998.3992768 & 1007.6977500 & 1028.826000 & ▁▁▃▇▃\\\\\n\t5 & RH    & 0 & 1 &  50.6296481 & 17.2962454 &   9.72653456 &  37.0803125 &  50.1837096 &   64.9926675 &   88.755170 & ▂▇▇▇▃\\\\\n\\end{tabular}\n\n\\end{description}\n",
            "text/plain": [
              "$character\n",
              "\n",
              "── Variable type: character ────────────────────────────────────────────────────\n",
              "  skim_variable n_missing complete_rate min max empty n_unique whitespace\n",
              "\u001b[90m1\u001b[39m date                  0             1   9  10     0      501          0\n",
              "\n",
              "$factor\n",
              "\n",
              "── Variable type: factor ───────────────────────────────────────────────────────\n",
              "  skim_variable n_missing complete_rate ordered n_unique top_counts             \n",
              "\u001b[90m1\u001b[39m code                  0             1 FALSE          7 100: 436, 100: 432, 10…\n",
              "\u001b[90m2\u001b[39m year                  0             1 FALSE          2 201: 1511, 201: 1459   \n",
              "\u001b[90m3\u001b[39m month                 0             1 FALSE         12 3: 316, 1: 309, 4: 289…\n",
              "\u001b[90m4\u001b[39m week                  0             1 FALSE          7 2: 445, 4: 439, 1: 435…\n",
              "\n",
              "$numeric\n",
              "\n",
              "── Variable type: numeric ──────────────────────────────────────────────────────\n",
              "  skim_…¹ n_mis…² compl…³    mean     sd       p0     p25     p50     p75   p100\n",
              "\u001b[90m1\u001b[39m PM2.5         0       1  70.9   65.2     4.62    23.9    52.3   9.79\u001b[90me\u001b[39m+1 4.5 \u001b[90me\u001b[39m2\n",
              "\u001b[90m2\u001b[39m c_AOD         0       1   0.674  0.673   0.021\u001b[4m2\u001b[24m   0.219   0.412 8.87\u001b[90me\u001b[39m\u001b[31m-1\u001b[39m 3.56\u001b[90me\u001b[39m0\n",
              "\u001b[90m3\u001b[39m TEMP          0       1  11.3   11.3   -\u001b[31m12\u001b[39m\u001b[31m.\u001b[39m\u001b[31m1\u001b[39m      0.114  12.7   2.19\u001b[90me\u001b[39m+1 3.15\u001b[90me\u001b[39m1\n",
              "\u001b[90m4\u001b[39m AP            0       1 995.    18.3   939.     989.    998.    1.01\u001b[90me\u001b[39m+3 1.03\u001b[90me\u001b[39m3\n",
              "\u001b[90m5\u001b[39m RH            0       1  50.6   17.3     9.73    37.1    50.2   6.50\u001b[90me\u001b[39m+1 8.88\u001b[90me\u001b[39m1\n",
              "\u001b[90m# … with 1 more variable: hist <chr>, and abbreviated variable names\u001b[39m\n",
              "\u001b[90m#   ¹​skim_variable, ²​n_missing, ³​complete_rate\u001b[39m\n"
            ]
          },
          "metadata": {}
        }
      ]
    },
    {
      "cell_type": "markdown",
      "source": [
        "## 1.2 Data split\n",
        "\n",
        "We randomly select 20% of the data as independent testing dataset, and the remainder were used as the training dataset.\n",
        "\n",
        "The split strategy is based on the size of your sample as well as your question."
      ],
      "metadata": {
        "id": "IOGzMv0bS6bu"
      }
    },
    {
      "cell_type": "code",
      "source": [
        "set.seed(1234) # to achieve a repeatable resultsm\n",
        "\n",
        "size <-\n",
        "  caret::createDataPartition(y = envir_example$PM2.5,\n",
        "                             p = 0.8, list = FALSE)\n",
        "trainset <- envir_example[size, ]\n",
        "testset <- envir_example[-size, ]"
      ],
      "metadata": {
        "id": "97tfiFloS_Iq"
      },
      "execution_count": 13,
      "outputs": []
    },
    {
      "cell_type": "markdown",
      "source": [
        "Identify the dependence and independence variables"
      ],
      "metadata": {
        "id": "6fsfC0myTEE0"
      }
    },
    {
      "cell_type": "code",
      "source": [
        "y <- c(\"PM2.5\")\n",
        "x <- colnames(envir_example[-c(1, 6)]) # except \"date\" and \"PM2.5\""
      ],
      "metadata": {
        "id": "UAHawbUXTKZq"
      },
      "execution_count": 12,
      "outputs": []
    },
    {
      "cell_type": "markdown",
      "source": [
        "# Challenging 1\n",
        "\n",
        "Q: Estimate annual average NO2 in Sydney in 2005-2018\n",
        "\n",
        "* **Data prepare:** Download and load the Sydney NO2 data \"data_Sydney.csv\" in Google COlab by steps:\n",
        "\n",
        "Click file in the left side >  Upload to session storage > choose the files > OK\n",
        "\n",
        "\n",
        "Tasks:\n",
        "\n",
        "1.  Setting the dependence (\"no2_annual\") and others as independent variables\n",
        "\n",
        "2.  Split 10% of data as testing data set\n"
      ],
      "metadata": {
        "id": "v6VNxJe9TNFN"
      }
    },
    {
      "cell_type": "code",
      "source": [
        "data_Sydney <- read.csv(\"training_data.csv\")\n",
        "\n",
        "print(head(data_Sydney))"
      ],
      "metadata": {
        "id": "OcSYWuKrhCCo",
        "colab": {
          "base_uri": "https://localhost:8080/"
        },
        "outputId": "1f1088dc-2079-41fe-9fe3-b198ab2f64d7"
      },
      "execution_count": 9,
      "outputs": [
        {
          "output_type": "stream",
          "name": "stdout",
          "text": [
            "  no2_annual year lon_metres lat_metres pos_elevation pos_distocean\n",
            "1   4.177732 2018    1723117   -3882593    -0.5442945   -0.72716631\n",
            "2   2.126907 2018    1720247   -3885163    -0.4352400   -0.68964094\n",
            "3   7.382676 2018    1723137   -3812193    -0.3289075   -0.08954413\n",
            "4   7.449784 2018    1748317   -3836653    -0.3607902   -0.56363717\n",
            "5   4.667771 2018    1746639   -3838431    -0.4601858   -0.56833557\n",
            "6   4.142557 2018    1717309   -3843953     0.1178904   -0.37247337\n",
            "  pop_dens_10000 em_rds_dist em_majrd_invdist em_minrd_invdist\n",
            "1     -0.8558457  -0.1875875       -0.3599888       0.07511178\n",
            "2     -0.8357406  -0.1862169       -0.3603637      -0.17618748\n",
            "3     -0.4192745  -0.3529771       -0.2655858       0.07728530\n",
            "4      1.1338605  -0.4928812        1.6177096      -0.30281745\n",
            "5      0.8316091   0.7726193       -0.4257326      -0.24915084\n",
            "6     -0.7026833   0.4792773       -0.4192363      -0.25892256\n",
            "  em_majrd_length_200 em_minrd_length_50 lc_water_modis_2000 lu_com_5000\n",
            "1          -0.4849181          0.4260798           1.0737931  -0.1801405\n",
            "2          -0.4849181          0.1717426          -0.3218544  -0.1469109\n",
            "3           0.2170072          1.4166463          -0.3218544   0.8656735\n",
            "4           0.2410421         -1.0193179          -0.3218544  -0.2751463\n",
            "5          -0.4849181         -0.4274631           0.1535694  -0.6117728\n",
            "6          -0.4849181         -0.7550880          -0.3218544   0.4109811\n",
            "  lu_res_10000 lu_open_10000 lu_ind_10000 lc_park_10000 lc_tree_cover_10000\n",
            "1   -1.0131956    0.09451417   0.27832990   -0.69315120           1.3832598\n",
            "2   -0.9815613    0.27215183   0.28398558   -0.44356548           1.6636832\n",
            "3   -0.2157170    0.30840812   0.38875166   -0.22758379          -0.5819876\n",
            "4    0.8969015   -0.82197852   0.25857055    0.04919963          -0.3653771\n",
            "5    0.8718198   -0.82308100   0.03648836    0.58751141           0.1490303\n",
            "6   -0.2734993    0.58593897  -0.40360141   -0.01082215          -0.1366275\n",
            "  clim_wind_annual clim_solar_winter clim_solar_summer clim_rain_annual\n",
            "1        0.3275905       -0.17275384        -0.6172587       1.90119171\n",
            "2        0.3275905       -0.22810446        -0.8986402       2.21062387\n",
            "3       -1.4744919        0.01096048        -0.8868079      -0.36557878\n",
            "4        0.5049736       -0.07261322        -0.2254360       0.05539288\n",
            "5        0.5049736       -0.05847655        -0.2741353      -0.17488222\n",
            "6       -1.1564701       -0.03458869        -0.6861129      -0.48071633\n",
            "  clim_relhum_annual wthr_maxtmp_yrly_avg wthr_meantmp_yrly_avg\n",
            "1          0.8023385          -0.26153497           0.414366463\n",
            "2          0.8023385          -1.28527100          -0.961470616\n",
            "3         -0.1608484           0.84055992           0.397682008\n",
            "4          0.3207451           0.08093956           0.388717298\n",
            "5          0.3207451           0.26300882           0.431548828\n",
            "6          0.3207451           0.50269484           0.004230044\n",
            "  wthr_drt_count_months wthr_drt_max_length wthr_rain_yrly_total\n",
            "1             1.4174403           0.6757627           -0.5832802\n",
            "2             1.4174403           0.6757627            0.3347952\n",
            "3             0.7807964           0.4393275           -0.8506495\n",
            "4             1.0991183           0.5575451           -0.3159109\n",
            "5             0.7807964           0.5575451           -0.5510671\n",
            "6             1.4174403           0.6757627           -1.1824452\n",
            "  clim_avtmp_annual\n",
            "1       -0.21684611\n",
            "2       -0.45231464\n",
            "3        0.02273631\n",
            "4        0.24001759\n",
            "5        0.29385226\n",
            "6       -0.50881346\n"
          ]
        }
      ]
    },
    {
      "cell_type": "code",
      "source": [
        "# data clean\n",
        "\n",
        "data_Sydney$year <- as.factor(data_Sydney$year)\n",
        "\n",
        "# dataset split\n"
      ],
      "metadata": {
        "id": "otrFKmqkkxUy"
      },
      "execution_count": 10,
      "outputs": []
    },
    {
      "cell_type": "markdown",
      "source": [
        "## 2. Establish base models\n",
        "\n",
        "## 2.1 Single base model training\n",
        "\n",
        "Q: How to select the best parameter for a single base model?\n",
        "\n",
        "\n",
        "We can set or adjust the parameters of a base model using 'tuningModel' function.\n"
      ],
      "metadata": {
        "id": "C4FbkYIWTX38"
      }
    },
    {
      "cell_type": "code",
      "source": [
        "ranger <-\n",
        "  tuningModel(\n",
        "    basemodel  = 'SL.ranger',\n",
        "    params = list(num.trees = 100),\n",
        "    tune = list(mtry = c(1, 3, 7))\n",
        "  )"
      ],
      "metadata": {
        "id": "PUYj7zDqTdWe"
      },
      "execution_count": 14,
      "outputs": []
    },
    {
      "cell_type": "markdown",
      "source": [
        "Here we will train a Random Forest (RF) model with the specific parameters and using 5-fold Cross validation (CV) to assess the model performance."
      ],
      "metadata": {
        "id": "AAEBO3L0TgYV"
      }
    },
    {
      "cell_type": "code",
      "source": [
        "# training the RF model with different parameters simultaneously\n",
        "\n",
        "start_time <- Sys.time()\n",
        "model1 <-\n",
        "  predictModel(\n",
        "    Y = trainset[, y],\n",
        "    X = trainset[, x],\n",
        "    base_model = c(ranger),\n",
        "    cvControl = list(V = 5)\n",
        "  )\n",
        "end_time <- Sys.time()\n",
        "end_time - start_time\n",
        "#print(model1$base_ensemble_value)"
      ],
      "metadata": {
        "id": "ri2beoeeTl_v",
        "colab": {
          "base_uri": "https://localhost:8080/",
          "height": 173
        },
        "outputId": "1531f54f-a76c-43c0-9340-c38715ac757b"
      },
      "execution_count": 15,
      "outputs": [
        {
          "output_type": "stream",
          "name": "stdout",
          "text": [
            "\n",
            "\n",
            "The base models Cross validation result:\n",
            "\n",
            "       SL.ranger_1_All SL.ranger_2_All SL.ranger_3_All\n",
            "weight       0.0000000       0.3004660       0.6995340\n",
            "R2           0.7978256       0.8749765       0.8752692\n",
            "RMSE        35.2163342      23.8228438      23.2379626\n"
          ]
        },
        {
          "output_type": "display_data",
          "data": {
            "text/plain": [
              "Time difference of 6.973017 secs"
            ]
          },
          "metadata": {}
        }
      ]
    },
    {
      "cell_type": "markdown",
      "source": [
        "The results show the weight, R2, and the root-mean-square error (RMSE) of each model. \"ranger_1\",\"ranger_2\",\"ranger_3\" note the Random Forest model with parameters mtry = 1,3,7 separately.\n",
        "\n",
        "The training results show that 'mtry = 7' could achieve a better RF model performance."
      ],
      "metadata": {
        "id": "ubewfl0mf8gR"
      }
    },
    {
      "cell_type": "markdown",
      "source": [
        "## 2.2 Model prediction\n",
        "\n",
        "After training a base ML model, we can use it to estimate the independent testing dataset by using 'predict' function.\n",
        "\n",
        "**Note: 'predict()'function was recommended to limit its sources (namespace) to reduce the conflict with other R package such as stats::predict()**"
      ],
      "metadata": {
        "id": "cvSOtCCLgAx3"
      }
    },
    {
      "cell_type": "code",
      "source": [
        "# compare the model performance in the independent testing dataset\n",
        "pred_model1 <- deeper::predict(object = model1, newX = testset[, x])\n",
        "\n",
        "base_model_output <- pred_model1$pre_base$library.predict\n",
        "\n",
        "print(head(base_model_output))"
      ],
      "metadata": {
        "id": "QFpy97LCgEmx",
        "colab": {
          "base_uri": "https://localhost:8080/"
        },
        "outputId": "71b31e01-4680-4b5f-e955-61e98d34f918"
      },
      "execution_count": 16,
      "outputs": [
        {
          "output_type": "stream",
          "name": "stdout",
          "text": [
            "     SL.ranger_1_All SL.ranger_2_All SL.ranger_3_All\n",
            "[1,]        52.90729        47.68343        48.09790\n",
            "[2,]        61.50432        66.76404        67.36444\n",
            "[3,]        68.93616        77.79895        62.86596\n",
            "[4,]        66.66083        73.91816        77.26067\n",
            "[5,]       147.77336       177.64796       174.72512\n",
            "[6,]        56.60838        51.01905        49.36100\n"
          ]
        }
      ]
    },
    {
      "cell_type": "code",
      "source": [
        "# calculate model performance in testing dataset\n",
        "print(apply(\n",
        "  X = pred_model1$pre_base$library.predict,\n",
        "  MARGIN = 2,\n",
        "  FUN = caret::R2,\n",
        "  obs = testset[, y]\n",
        "))"
      ],
      "metadata": {
        "id": "jgiVjahEgRFY",
        "colab": {
          "base_uri": "https://localhost:8080/"
        },
        "outputId": "510bfabb-6bc0-441f-b5f0-7eaf616dce9b"
      },
      "execution_count": 17,
      "outputs": [
        {
          "output_type": "stream",
          "name": "stdout",
          "text": [
            "SL.ranger_1_All SL.ranger_2_All SL.ranger_3_All \n",
            "      0.7843890       0.8562903       0.8780889 \n"
          ]
        }
      ]
    },
    {
      "cell_type": "markdown",
      "source": [
        "After examine the model performance in an independent testing dataset, we may finally select the RF model with mtry = 7 as the best parameters.\n"
      ],
      "metadata": {
        "id": "TCDSj9VygTr4"
      }
    },
    {
      "cell_type": "markdown",
      "source": [
        "# Challenging 2\n",
        "\n",
        "Tasks:\n",
        "\n",
        "1.  Establish a Random Forest model with parameter: mtry = 7 and others as default\n",
        "\n",
        "2.  Establish another base model 'xgboost' simultaneously by setting base_model = \"SL.xgboost\"\n"
      ],
      "metadata": {
        "id": "jtaJPihagXPH"
      }
    },
    {
      "cell_type": "code",
      "source": [
        "#try it here"
      ],
      "metadata": {
        "id": "SH3FszD9zPT8"
      },
      "execution_count": null,
      "outputs": []
    },
    {
      "cell_type": "markdown",
      "source": [
        "## 2.3 Establish base model with parallel computing\n",
        "\n",
        "Considering the time-consuming of running several base models simultaneously, we can select using parallel computing to help improve the computational efficiency.\n",
        "\n",
        "We can identify the index in the cross validation(CV) to conduct the spatial (cluster) or temporal CV"
      ],
      "metadata": {
        "id": "dBbUIp7NgZTJ"
      }
    },
    {
      "cell_type": "code",
      "source": [
        "# there are 7 stations in the trainset\n",
        "unique(trainset$code) \n",
        "# Create a list with 7 (folds) elements (each element contains index of rows to be considered on each fold)\n",
        "\n",
        "## conduct the spatial CV\n",
        "indices <-\n",
        "  CAST::CreateSpacetimeFolds(trainset, spacevar = \"code\", k = 7)\n",
        "\n",
        "# Rows of validation set on each fold\n",
        "\n",
        "v_raw <- indices$indexOut\n",
        "names(v_raw) <- seq(1:7)\n",
        "\n",
        "start_time <- Sys.time()\n",
        "\n",
        "model2 <- predictModel_parallel(\n",
        "  Y = trainset[, y],\n",
        "  X = trainset[, x],\n",
        "  base_model = c(\"SL.xgboost\", \"SL.ranger\"),\n",
        "  cvControl = list(V = length(v_raw), validRows = v_raw),\n",
        "  #number_cores = 2,\n",
        "  seed = 1234\n",
        ")\n",
        "end_time <- Sys.time()\n",
        "end_time - start_time\n",
        "## when number_cores is missing, it will indicate user to set one based on the operation system.\n",
        "\n",
        "#You have 2 cpu cores, How many cpu core you want to use:\n",
        "# type the number to continue the process."
      ],
      "metadata": {
        "id": "ZM_wUJ1YgU6d",
        "colab": {
          "base_uri": "https://localhost:8080/",
          "height": 225
        },
        "outputId": "aa1b83d8-4154-40f7-a878-84909ec8a5eb"
      },
      "execution_count": 18,
      "outputs": [
        {
          "output_type": "display_data",
          "data": {
            "text/html": [
              "<style>\n",
              ".list-inline {list-style: none; margin:0; padding: 0}\n",
              ".list-inline>li {display: inline-block}\n",
              ".list-inline>li:not(:last-child)::after {content: \"\\00b7\"; padding: 0 .5ex}\n",
              "</style>\n",
              "<ol class=list-inline><li>1001A</li><li>1002A</li><li>1003A</li><li>1004A</li><li>1005A</li><li>1006A</li><li>1007A</li></ol>\n",
              "\n",
              "<details>\n",
              "\t<summary style=display:list-item;cursor:pointer>\n",
              "\t\t<strong>Levels</strong>:\n",
              "\t</summary>\n",
              "\t<style>\n",
              "\t.list-inline {list-style: none; margin:0; padding: 0}\n",
              "\t.list-inline>li {display: inline-block}\n",
              "\t.list-inline>li:not(:last-child)::after {content: \"\\00b7\"; padding: 0 .5ex}\n",
              "\t</style>\n",
              "\t<ol class=list-inline><li>'1001A'</li><li>'1002A'</li><li>'1003A'</li><li>'1004A'</li><li>'1005A'</li><li>'1006A'</li><li>'1007A'</li></ol>\n",
              "</details>"
            ],
            "text/markdown": "1. 1001A\n2. 1002A\n3. 1003A\n4. 1004A\n5. 1005A\n6. 1006A\n7. 1007A\n\n\n\n**Levels**: 1. '1001A'\n2. '1002A'\n3. '1003A'\n4. '1004A'\n5. '1005A'\n6. '1006A'\n7. '1007A'\n\n\n",
            "text/latex": "\\begin{enumerate*}\n\\item 1001A\n\\item 1002A\n\\item 1003A\n\\item 1004A\n\\item 1005A\n\\item 1006A\n\\item 1007A\n\\end{enumerate*}\n\n\\emph{Levels}: \\begin{enumerate*}\n\\item '1001A'\n\\item '1002A'\n\\item '1003A'\n\\item '1004A'\n\\item '1005A'\n\\item '1006A'\n\\item '1007A'\n\\end{enumerate*}\n",
            "text/plain": [
              "[1] 1001A 1002A 1003A 1004A 1005A 1006A 1007A\n",
              "Levels: 1001A 1002A 1003A 1004A 1005A 1006A 1007A"
            ]
          },
          "metadata": {}
        },
        {
          "output_type": "stream",
          "name": "stdout",
          "text": [
            "You have 2 cpu cores, How many cpu core you want to use:2\n",
            "\n",
            "\n",
            "The base models Cross validation result:\n",
            "\n",
            "       SL.xgboost_All SL.ranger_All SL.predict\n",
            "weight      0.3691117     0.6308883  1.0000000\n",
            "R2          0.8596721     0.8776917  0.9884692\n",
            "RMSE       24.3083180    23.5063538  7.6983371\n"
          ]
        },
        {
          "output_type": "display_data",
          "data": {
            "text/plain": [
              "Time difference of 1.205203 mins"
            ]
          },
          "metadata": {}
        }
      ]
    },
    {
      "cell_type": "code",
      "source": [
        "# prediction for testing dataset\n",
        "pred_model2 <- deeper::predict(object = model2, newX = testset[, x])\n",
        "\n",
        "head(pred_model2$pre_base$library.predict)"
      ],
      "metadata": {
        "id": "Xu6X36kxg6fB"
      },
      "execution_count": null,
      "outputs": []
    },
    {
      "cell_type": "markdown",
      "source": [
        "## 3. Stacking meta models\n",
        "\n",
        "After assessing the performances of base models, we now can move forward to the DEML by stacking meta models on it."
      ],
      "metadata": {
        "id": "sYmrMcq5g-5T"
      }
    },
    {
      "cell_type": "code",
      "source": [
        "#Do include original feature\n",
        "#object do not include newX dataset\n",
        "\n",
        "## the training results\n",
        "\n",
        "cat(\"Training model results\")\n",
        "model3_stack <-\n",
        "  stack_ensemble(\n",
        "    object = model1,\n",
        "    meta_model = c(\"SL.ranger\", \"SL.xgboost\", \"SL.glm\"),\n",
        "    original_feature = FALSE,\n",
        "    #X = trainset[, x]\n",
        "  )\n",
        "#model3_stack$stack_ensemble_value\n",
        "\n",
        "# Independent testing results\n",
        "model3_DEML <-\n",
        "  deeper::predict(object = model3_stack, newX = testset[, x])\n",
        "cat(\"\\n\")\n",
        "cat(\"\\n\")\n",
        "cat(\"Independent testing results\")\n",
        "cat(\"\\n\")\n",
        "print(apply(\n",
        "  X = cbind(model3_DEML$pre_meta$library.predict,\n",
        "        model3_DEML$pre_meta$pred),\n",
        "  MARGIN = 2,\n",
        "  FUN = caret::R2,\n",
        "  obs = testset[, y]\n",
        "))\n",
        "\n",
        "print(apply(\n",
        "  X = cbind(model3_DEML$pre_meta$library.predict,\n",
        "        model3_DEML$pre_meta$pred),\n",
        "  MARGIN = 2,\n",
        "  FUN = caret::RMSE,\n",
        "  obs = testset[, y]\n",
        "))"
      ],
      "metadata": {
        "id": "JNRbZTpRhARZ",
        "colab": {
          "base_uri": "https://localhost:8080/"
        },
        "outputId": "89e3d7d5-9329-4700-e44c-eda0d11f8ab9"
      },
      "execution_count": 19,
      "outputs": [
        {
          "output_type": "stream",
          "name": "stdout",
          "text": [
            "Training model results\n",
            "The meta models cross validation results:\n",
            "\n",
            "       SL.ranger_All SL.xgboost_All SL.glm_All\n",
            "weight     0.1961940      0.0000000  0.8038060\n",
            "R2         0.8731696      0.8505206  0.8817168\n",
            "RMSE      23.1194670     25.2778406 22.2987491\n",
            "\n",
            "\n",
            "Independent testing results\n",
            " SL.ranger_All SL.xgboost_All     SL.glm_All                \n",
            "     0.8646105      0.8537735      0.8738125      0.8736936 \n",
            " SL.ranger_All SL.xgboost_All     SL.glm_All                \n",
            "      24.55508       25.59143       23.70075       23.71309 \n"
          ]
        }
      ]
    },
    {
      "cell_type": "markdown",
      "source": [
        "## 3.1 Stacked meta models from scratch\n",
        "\n",
        "We can create DEML directly by setting the base models and meta models. But considering the unknown impact of the underlying model and computation time, this is not recommended."
      ],
      "metadata": {
        "id": "LIDpYqaKhvOB"
      }
    },
    {
      "cell_type": "code",
      "source": [
        "model4_stack <-\n",
        "  stack_ensemble.fit(\n",
        "    Y = trainset[, y],\n",
        "    X = trainset[, x],\n",
        "    base_model = c(\"SL.xgboost\", \"SL.ranger\"),\n",
        "    meta_model = c(\"SL.glm\"),\n",
        "    original_feature = FALSE\n",
        "  )"
      ],
      "metadata": {
        "id": "TFf0qgdQhyij",
        "colab": {
          "base_uri": "https://localhost:8080/"
        },
        "outputId": "a63832b3-b758-48a6-f179-a0aa933487cb"
      },
      "execution_count": 20,
      "outputs": [
        {
          "output_type": "stream",
          "name": "stdout",
          "text": [
            "\n",
            "\n",
            "The base models Cross validation result:\n",
            "\n",
            "       SL.xgboost_All SL.ranger_All\n",
            "weight      0.5495151     0.4504849\n",
            "R2          0.8842027     0.8854696\n",
            "RMSE       22.0787282    22.8357203\n",
            "\n",
            "The meta models cross validation results:\n",
            "\n",
            "       SL.glm_All\n",
            "weight  1.0000000\n",
            "R2      0.8943294\n",
            "RMSE   21.0763048\n"
          ]
        }
      ]
    },
    {
      "cell_type": "markdown",
      "source": [
        "## 3.2 Stacked meta models with paralleling computing\n",
        "\n",
        "We also accelerate the calculation with paralleling computing in DEML. \n",
        "\n",
        "Several key points are worthy to note:\n",
        "\n",
        "- If the base model used parallel computing, the meta-model also needs to be parallel.\n",
        "\n",
        "- When setting a specific CV index, please be consistent in meta-model training.\n",
        "\n",
        "- Do not use all of your computation cores to do paralleling. Leave at least one for your operating system.\n",
        "\n",
        "- 'Original_feature' is optional. It may generally improve your model performance but increase the computational complexity."
      ],
      "metadata": {
        "id": "OM3aFtvYh0ka"
      }
    },
    {
      "cell_type": "code",
      "source": [
        "#Do not include original feature\n",
        "\n",
        "start_time <- Sys.time()\n",
        "model5_stack <-\n",
        "  stack_ensemble_parallel(\n",
        "    object = model2,\n",
        "    Y = trainset[, y],\n",
        "    meta_model = c(\"SL.glm\",\"SL.ranger\"),\n",
        "    original_feature = FALSE,\n",
        "    cvControl = list(V = length(v_raw), validRows = v_raw),\n",
        "    number_cores = 2\n",
        "  )\n",
        "end_time <- Sys.time()\n",
        "end_time - start_time\n",
        "# the training results\n",
        "\n",
        "# the testing results\n",
        "pred_model5_stack <-\n",
        "  deeper::predict(object = model5_stack, newX = testset[, x])"
      ],
      "metadata": {
        "id": "UCTj11L6h7op",
        "colab": {
          "base_uri": "https://localhost:8080/",
          "height": 156
        },
        "outputId": "f63d9693-1284-4b54-b706-199266db297f"
      },
      "execution_count": 21,
      "outputs": [
        {
          "output_type": "stream",
          "name": "stdout",
          "text": [
            "\n",
            "The stack ensemble cross validation value:\n",
            "\n",
            "       SL.glm_All SL.ranger_All     deeper\n",
            "weight  0.7474523     0.2525477  1.0000000\n",
            "R2      0.8731054     0.8649940  0.9108745\n",
            "RMSE   23.0996965    23.8487905 19.3787027\n"
          ]
        },
        {
          "output_type": "display_data",
          "data": {
            "text/plain": [
              "Time difference of 10.89973 secs"
            ]
          },
          "metadata": {}
        }
      ]
    },
    {
      "cell_type": "markdown",
      "source": [
        "# Challenging 3\n",
        "\n",
        "Tasks:\n",
        "\n",
        "1. Stacking meta models  using RF and Xgboost (with original features) in Sydeny data to conduct DEML model\n",
        "\n",
        "2. Achieving the final DEML model performance R2 in testing dataset\n",
        "\n"
      ],
      "metadata": {
        "id": "njAU-XvxjYDo"
      }
    },
    {
      "cell_type": "code",
      "source": [
        "#try it here"
      ],
      "metadata": {
        "id": "WflRzkR_zgRU"
      },
      "execution_count": null,
      "outputs": []
    },
    {
      "cell_type": "markdown",
      "source": [
        "## 3.3 Using DEML to estimate the grid cell data\n",
        "\n",
        "The same as the base model prediction, we use 'deeper::predict()' function to use the established DEML model to estimate the grid cell air pollutant.\n",
        "\n",
        "**Note: Please make sure all grid input data should keep the same data structure and variable types with the training data. Using 'attr.all.equal' to test the similarity.**\n",
        "\n",
        "**Tips: Using 'tidyverse::bind_rows' to combine the training data and grid data first. And then splitting the grid data for prediction can always help to keep the same structure with training data.**\n",
        "\n",
        "# Challenging 4\n",
        "Download and load the Sydney gridded cell NO2 data \"predictor_scaled_no2_gsyd_10km_2005_2018_WY3.csv\" in Google COlab by steps:\n",
        "\n",
        "Click file in the left side> Upload to session storage > choose the file > OK\n",
        "\n",
        "\n",
        "Task:\n",
        "\n",
        "To estimate 10km grid cell yearly NO2 in Sydney.\n"
      ],
      "metadata": {
        "id": "vplGLasVjdkh"
      }
    },
    {
      "cell_type": "code",
      "source": [
        "# load the grid cell dataset\n",
        "\n",
        "predictor_scaled_no2_gsyd_10km_2005_2018 <- read.csv(file = \"new_data.csv\")\n",
        "\n",
        "predictor_scaled_no2_gsyd_10km_2005_2018$year <- as.factor(predictor_scaled_no2_gsyd_10km_2005_2018$year)\n",
        "\n",
        "# estimate grid cell NO2 using the model created in Challenging 3\n"
      ],
      "metadata": {
        "id": "wbHsS9uommYV"
      },
      "execution_count": 22,
      "outputs": []
    },
    {
      "cell_type": "markdown",
      "source": [
        "## 4. Plot the results\n",
        "\n",
        "We can finally have the scatter plot using 'assess.plot' function in deeper."
      ],
      "metadata": {
        "id": "G5PtQPd_jlWo"
      }
    },
    {
      "cell_type": "code",
      "source": [
        "plot_DEML <-\n",
        "  assess.plot(pre = model3_DEML$pre_meta$pred, obs = testset[, y])\n"
      ],
      "metadata": {
        "id": "90zj3H0tjoiD"
      },
      "execution_count": 23,
      "outputs": []
    },
    {
      "cell_type": "code",
      "source": [
        "#install.packages(\"hexbin\")\n",
        "#library(hexbin)\n",
        "plot_DEML$plot"
      ],
      "metadata": {
        "id": "eee9EO6sx3L4",
        "colab": {
          "base_uri": "https://localhost:8080/",
          "height": 437
        },
        "outputId": "54d4e9bd-f196-4fc4-c697-29122ece1daa"
      },
      "execution_count": 24,
      "outputs": [
        {
          "output_type": "display_data",
          "data": {
            "text/plain": [
              "plot without title"
            ],
            "image/png": "[encoded data removed]"
          },
          "metadata": {
            "image/png": {
              "width": 420,
              "height": 420
            }
          }
        }
      ]
    },
    {
      "cell_type": "markdown",
      "source": [
        "# **Demostrate the deeper GUI by Liam**"
      ],
      "metadata": {
        "id": "zJqJSbESLxjs"
      }
    },
    {
      "cell_type": "markdown",
      "source": [
        "Please install a deeper GUI software first"
      ],
      "metadata": {
        "id": "2FYco_VmMLQo"
      }
    },
    {
      "cell_type": "markdown",
      "source": [
        "# Citation\n",
        "\n",
        "Wenhua Yu, Shanshan Li, Tingting Ye,Rongbin Xu, Jiangning Song, Yuming Guo (2022) Deep ensemble machine learning framework for the estimation of PM2.5 concentrations,Environmental health perspectives: [https://doi.org/10.1289/EHP9752](https://doi.org/10.1289/EHP9752)"
      ],
      "metadata": {
        "id": "slYmv6gwjq2b"
      }
    }
  ]
}