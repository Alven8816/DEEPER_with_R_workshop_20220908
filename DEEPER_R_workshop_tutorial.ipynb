{
  "nbformat": 4,
  "nbformat_minor": 0,
  "metadata": {
    "colab": {
      "provenance": [],
      "authorship_tag": "ABX9TyP3xAjXl4N0bYm3upPNaC3I",
      "include_colab_link": true
    },
    "kernelspec": {
      "name": "ir",
      "display_name": "R"
    },
    "language_info": {
      "name": "R"
    },
    "gpuClass": "standard"
  },
  "cells": [
    {
      "cell_type": "markdown",
      "metadata": {
        "id": "view-in-github",
        "colab_type": "text"
      },
      "source": [
        "<a href=\"https://colab.research.google.com/github/Alven8816/DEEPER_with_R_workshop_20220908/blob/main/DEEPER_R_workshop_tutorial.ipynb\" target=\"_parent\"><img src=\"https://colab.research.google.com/assets/colab-badge.svg\" alt=\"Open In Colab\"/></a>"
      ]
    },
    {
      "cell_type": "markdown",
      "source": [
        "# **Deep ensemble machine learning (DEML) for estimating environmental exposure - Session 2**"
      ],
      "metadata": {
        "id": "koFk79fbzLdV"
      }
    },
    {
      "cell_type": "markdown",
      "source": [
        "Wenhua(Alven) Yu; Liam Liu"
      ],
      "metadata": {
        "id": "WodnimKozUAE"
      }
    },
    {
      "cell_type": "markdown",
      "source": [
        "2022-09-08"
      ],
      "metadata": {
        "id": "2CZJeLuV1E7t"
      }
    },
    {
      "cell_type": "code",
      "source": [
        "# check the package installation\n",
        "install.packages(\"pacman\")\n",
        "library(pacman)\n",
        "p_load(\"devtools\",\"SuperLearner\",\"ranger\",\"CAST\",\"caret\",\"skimr\",\"gbm\",\"xgboost\",\"hexbin\")\n",
        "# about 9 minutes"
      ],
      "metadata": {
        "id": "LBI-8c86Px3-"
      },
      "execution_count": null,
      "outputs": []
    },
    {
      "cell_type": "markdown",
      "source": [
        "# R package 'deeper' install\n",
        "\n",
        "Before installation, please make sure:\n",
        "\n",
        "-   using R (\\>= 3.5.0)\n",
        "\n",
        "-   installed certain dependent R packages: devtools, SuperLearner(\\>= 2.0-28)\n",
        "\n",
        "-   installed other suggested R packages: caret, skimr, CAST, ranger, gbm, xgboost, (nnls, foreach,splines, gam)\n",
        "\n",
        "\n",
        "The developing version of deeper can be found from [github](https://github.com/Alven8816/deeper).\n",
        "\n",
        "Using the following syntax to install:\n",
        "\n",
        "``` {.r}\n",
        "library(devtools)\n",
        "install_github(\"Alven8816/deeper\")\n",
        "```"
      ],
      "metadata": {
        "id": "1rhKVRO9IfWW"
      }
    },
    {
      "cell_type": "code",
      "source": [
        "library(devtools)"
      ],
      "metadata": {
        "id": "M4gjhuSHGqDE"
      },
      "execution_count": null,
      "outputs": []
    },
    {
      "cell_type": "code",
      "source": [
        "install_github(\"Alven8816/deeper\")"
      ],
      "metadata": {
        "id": "LQlWP2apGwHs"
      },
      "execution_count": null,
      "outputs": []
    },
    {
      "cell_type": "code",
      "source": [
        "library(deeper)"
      ],
      "metadata": {
        "id": "xzs3dQUBHCt5"
      },
      "execution_count": null,
      "outputs": []
    },
    {
      "cell_type": "markdown",
      "source": [
        "# Activity\n",
        "\n",
        "Getting access to the Google Colab or install deeper R package in your local computer.\n",
        "\n",
        "\n",
        "# The advantage of DEML\n",
        "\n",
        "* Outstanding model performance. DEML is an extension of a SuperLearner(SL) ensemble algorithm (Naimi and Balzer 2018; Polley and Van Der Laan 2010; Van der Laan et al. 2007) by introducing the neural network hierarchy structure. Generally, it achieved higher estimation accuracy than SL and other single ML models. \n",
        "\n",
        "* Assessing constructed individual models simultaneously. DEML can evaluate the performance of all constructed individual models simultaneously and generate the optimal weights for each model.\n",
        "\n",
        "* Customizing diverse hierarchy structure and algorithms. You can modify the structure of DEML and achieve the best one for your tasks.\n",
        "\n",
        "* Minimizing errors from empirical experience. DEML not only evaluates the performance of all constructed models simultaneously but also automatically selects an optimal integration, as well as the selection of hyper-parameters.\n",
        "\n",
        "* Easy to use and extent. You do not need to have a high-steep learning curve to learn how it works.\n",
        "\n",
        "\n",
        "The details about the DEML can be found [here](https://ehp.niehs.nih.gov/doi/full/10.1289/EHP9752). \n"
      ],
      "metadata": {
        "id": "fsUPw0HKOcZF"
      }
    },
    {
      "cell_type": "markdown",
      "source": [
        "# The DEML framework\n",
        "\n",
        "![framework](https://ehp.niehs.nih.gov/cms/asset/5ddec431-0e9c-45a0-a4d4-756370dc6a70/ehp9752_f1.jpg)\n",
        "\n",
        "The DEML framework proposed above is a three-level stacked ensemble approach. It is based on the SuperLearner(SL) ensemble algorithm (Naimi and Balzer 2018; Polley and Van Der Laan 2010; Van der Laan et al. 2007) introduced in the neural network hierarchy structure."
      ],
      "metadata": {
        "id": "vhOkEOJrOjeN"
      }
    },
    {
      "cell_type": "markdown",
      "source": [
        "# Basic steps for DEML\n",
        "\n",
        "* **Step 1.  Data preparation**\n",
        "\n",
        "Including data collection, data clean, setting trianing and testing dataset, and independent variables selection.\n",
        "\n",
        "**Note: DEML could not directly deal with missing values and missing value imputation technologies is recommended prior to the use of the DEML model.**\n",
        "\n",
        "    \n",
        "* **Step 2.  Establish base models**\n",
        "\n",
        "Using predictModel() or predictModel_parallel() to establish the base models. A tuningModel() function can be used to tuning the parameters to get the best single base model.\n",
        "\n",
        "* **Step 3.  Stacking meta models**\n",
        "\n",
        "We use stack_ensemble(),stack_ensemble.fit(), or stack_ensemble_parallel() function to stack the meta models to get a DEML model.\n",
        "\n",
        "\n",
        "* **Step 4.  Prediction based on new data set**\n",
        "\n",
        "After establishment of DEML model, the predict() can be used predict the unseen data set.\n",
        "\n",
        "To assess the performance of the models, assess.plot() can be used by comparing the original observations (y in test set) and the prediction. The assess.plot() also return the point scatter plot.\n"
      ],
      "metadata": {
        "id": "HY1PgJ_qRGq5"
      }
    },
    {
      "cell_type": "markdown",
      "source": [
        "# Algorithms selection"
      ],
      "metadata": {
        "id": "K-02cD5uIuBL"
      }
    },
    {
      "cell_type": "code",
      "source": [
        "data(model_list)\n",
        "print(model_details)"
      ],
      "metadata": {
        "id": "mWvL9WOcHW4Q"
      },
      "execution_count": null,
      "outputs": []
    },
    {
      "cell_type": "markdown",
      "source": [
        "In the 'type' column, \"R\": can be used for regression or classification;\"N\": can be used for regression but variables require to be numeric style; \"C\": just used in classification.\n"
      ],
      "metadata": {
        "id": "QHZptRR7RSrJ"
      }
    },
    {
      "cell_type": "markdown",
      "source": [
        "# Example\n",
        "\n",
        "*To estimate the daily ambient PM2.5 in the northeast of China in 2015-2016.*\n",
        "\n",
        "## 1.Data preparation"
      ],
      "metadata": {
        "id": "QOAMwAw2LLyf"
      }
    },
    {
      "cell_type": "code",
      "source": [
        "data(\"envir_example\")\n",
        "\n",
        "knitr::kable(head(envir_example))"
      ],
      "metadata": {
        "id": "XCNVAhwMNeVG"
      },
      "execution_count": null,
      "outputs": []
    },
    {
      "cell_type": "markdown",
      "source": [
        "## 1.1 Data clean\n",
        "\n",
        "The basic data clean strategies include:\n",
        "\n",
        "1.  Variable type setting\n",
        "\n",
        "2.  Extreme value (outliers) detection\n",
        "\n",
        "3.  Missing value operation (imputation, drop)\n",
        "\n",
        "4.  Data transforming (normalization/standardization, eg. scale, centralize,log-transform and others)\n",
        "\n",
        "``` {.r}\n",
        "# skim the data missing value and distribmution\n",
        "skimr::skim(envir_example)\n",
        "```\n"
      ],
      "metadata": {
        "id": "VhOkPdIVNtQW"
      }
    },
    {
      "cell_type": "code",
      "source": [
        "dis_test <- skimr::skim(envir_example)\n",
        "\n",
        "print(head(dis_test,10))"
      ],
      "metadata": {
        "id": "4lM6IjxeSogr"
      },
      "execution_count": null,
      "outputs": []
    },
    {
      "cell_type": "markdown",
      "source": [
        "## 1.2 Data split\n",
        "\n",
        "We randomly select 20% of the data as independent testing dataset, and the remainder were used as the training dataset.\n",
        "\n",
        "The split strategy is based on the size of your sample as well as your question."
      ],
      "metadata": {
        "id": "IOGzMv0bS6bu"
      }
    },
    {
      "cell_type": "code",
      "source": [
        "set.seed(1234) # to achieve a repeatable resultsm\n",
        "\n",
        "size <-\n",
        "  caret::createDataPartition(y = envir_example$PM2.5,\n",
        "                             p = 0.8, list = FALSE)\n",
        "trainset <- envir_example[size, ]\n",
        "testset <- envir_example[-size, ]"
      ],
      "metadata": {
        "id": "97tfiFloS_Iq"
      },
      "execution_count": null,
      "outputs": []
    },
    {
      "cell_type": "markdown",
      "source": [
        "Identify the dependence and independence variables"
      ],
      "metadata": {
        "id": "6fsfC0myTEE0"
      }
    },
    {
      "cell_type": "code",
      "source": [
        "y <- c(\"PM2.5\")\n",
        "x <- colnames(envir_example[-c(1, 6)]) # except \"date\" and \"PM2.5\""
      ],
      "metadata": {
        "id": "UAHawbUXTKZq"
      },
      "execution_count": null,
      "outputs": []
    },
    {
      "cell_type": "markdown",
      "source": [
        "# Challenging 1\n",
        "\n",
        "Q: Estimate annual average NO2 in Sydney in 2005-2018\n",
        "\n",
        "* **Data prepare:** Download and load the Sydney NO2 data \"data_Sydney.csv\" in Google COlab by steps:\n",
        "\n",
        "Click file in the left side >  Upload to session storage > choose the files > OK\n",
        "\n",
        "\n",
        "Tasks:\n",
        "\n",
        "1.  Setting the dependence (\"no2_annual\") and others as independent variables\n",
        "\n",
        "2.  Split 10% of data as testing data set\n",
        "\n",
        "```r\n",
        "#try it here\n",
        "```"
      ],
      "metadata": {
        "id": "v6VNxJe9TNFN"
      }
    },
    {
      "cell_type": "code",
      "source": [
        "data_Sydney <- read.csv(\"data_Sydney.csv\")\n",
        "\n",
        "print(head(data_Sydney))"
      ],
      "metadata": {
        "id": "OcSYWuKrhCCo"
      },
      "execution_count": null,
      "outputs": []
    },
    {
      "cell_type": "code",
      "source": [
        "# data clean\n",
        "\n",
        "data_Sydney$year <- as.factor(data_Sydney$year)\n",
        "\n",
        "# dataset split\n"
      ],
      "metadata": {
        "id": "otrFKmqkkxUy"
      },
      "execution_count": null,
      "outputs": []
    },
    {
      "cell_type": "markdown",
      "source": [
        "## 2. Establish base models\n",
        "\n",
        "## 2.1 Single base model training\n",
        "\n",
        "Q: How to select the best parameter for a single base model?\n",
        "\n",
        "\n",
        "We can set or adjust the parameters of a base model using 'tuningModel' function.\n"
      ],
      "metadata": {
        "id": "C4FbkYIWTX38"
      }
    },
    {
      "cell_type": "code",
      "source": [
        "ranger <-\n",
        "  tuningModel(\n",
        "    basemodel  = 'SL.ranger',\n",
        "    params = list(num.trees = 100),\n",
        "    tune = list(mtry = c(1, 3, 7))\n",
        "  )"
      ],
      "metadata": {
        "id": "PUYj7zDqTdWe"
      },
      "execution_count": null,
      "outputs": []
    },
    {
      "cell_type": "markdown",
      "source": [
        "Here we will train a Random Forest (RF) model with the specific parameters and using 5-fold Cross validation (CV) to assess the model performance."
      ],
      "metadata": {
        "id": "AAEBO3L0TgYV"
      }
    },
    {
      "cell_type": "code",
      "source": [
        "# training the RF model with different parameters simultaneously\n",
        "\n",
        "start_time <- Sys.time()\n",
        "model1 <-\n",
        "  predictModel(\n",
        "    Y = trainset[, y],\n",
        "    X = trainset[, x],\n",
        "    base_model = c(ranger),\n",
        "    cvControl = list(V = 5)\n",
        "  )\n",
        "end_time <- Sys.time()\n",
        "end_time - start_time\n",
        "#print(model1$base_ensemble_value)"
      ],
      "metadata": {
        "id": "ri2beoeeTl_v"
      },
      "execution_count": null,
      "outputs": []
    },
    {
      "cell_type": "markdown",
      "source": [
        "The results show the weight, R2, and the root-mean-square error (RMSE) of each model. \"ranger_1\",\"ranger_2\",\"ranger_3\" note the Random Forest model with parameters mtry = 1,3,7 separately.\n",
        "\n",
        "The training results show that 'mtry = 7' could achieve a better RF model performance."
      ],
      "metadata": {
        "id": "ubewfl0mf8gR"
      }
    },
    {
      "cell_type": "markdown",
      "source": [
        "## 2.2 Model prediction\n",
        "\n",
        "After training a base ML model, we can use it to estimate the independent testing dataset by using 'predict' function.\n",
        "\n",
        "**Note: 'predict()'function was recommended to limit its sources (namespace) to reduce the conflict with other R package such as stats::predict()**"
      ],
      "metadata": {
        "id": "cvSOtCCLgAx3"
      }
    },
    {
      "cell_type": "code",
      "source": [
        "# compare the model performance in the independent testing dataset\n",
        "pred_model1 <- deeper::predict(object = model1, newX = testset[, x])\n",
        "\n",
        "base_model_output <- pred_model1$pre_base$library.predict\n",
        "\n",
        "print(head(base_model_output))"
      ],
      "metadata": {
        "id": "QFpy97LCgEmx"
      },
      "execution_count": null,
      "outputs": []
    },
    {
      "cell_type": "code",
      "source": [
        "# calculate model performance in testing dataset\n",
        "print(apply(\n",
        "  X = pred_model1$pre_base$library.predict,\n",
        "  MARGIN = 2,\n",
        "  FUN = caret::R2,\n",
        "  obs = testset[, y]\n",
        "))"
      ],
      "metadata": {
        "id": "jgiVjahEgRFY"
      },
      "execution_count": null,
      "outputs": []
    },
    {
      "cell_type": "markdown",
      "source": [
        "After examine the model performance in an independent testing dataset, we may finally select the RF model with mtry = 7 as the best parameters.\n"
      ],
      "metadata": {
        "id": "TCDSj9VygTr4"
      }
    },
    {
      "cell_type": "markdown",
      "source": [
        "# Challenging 2\n",
        "\n",
        "Tasks:\n",
        "\n",
        "1.  Establish a Random Forest model with parameter: mtry = 7 and others as default\n",
        "\n",
        "2.  Establish another base model 'xgboost' simultaneously by setting base_model = \"SL.xgboost\"\n",
        "\n",
        "```r\n",
        "#try it here\n",
        "```"
      ],
      "metadata": {
        "id": "jtaJPihagXPH"
      }
    },
    {
      "cell_type": "markdown",
      "source": [
        "## 2.3 Establish base model with parallel computing\n",
        "\n",
        "Considering the time-consuming of running several base models simultaneously, we can select using parallel computing to help improve the computational efficiency.\n",
        "\n",
        "We can identify the index in the cross validation(CV) to conduct the spatial (cluster) or temporal CV"
      ],
      "metadata": {
        "id": "dBbUIp7NgZTJ"
      }
    },
    {
      "cell_type": "code",
      "source": [
        "# there are 7 stations in the trainset\n",
        "unique(trainset$code) \n",
        "# Create a list with 7 (folds) elements (each element contains index of rows to be considered on each fold)\n",
        "\n",
        "## conduct the spatial CV\n",
        "indices <-\n",
        "  CAST::CreateSpacetimeFolds(trainset, spacevar = \"code\", k = 7)\n",
        "\n",
        "# Rows of validation set on each fold\n",
        "\n",
        "v_raw <- indices$indexOut\n",
        "names(v_raw) <- seq(1:7)\n",
        "\n",
        "start_time <- Sys.time()\n",
        "\n",
        "model2 <- predictModel_parallel(\n",
        "  Y = trainset[, y],\n",
        "  X = trainset[, x],\n",
        "  base_model = c(\"SL.xgboost\", \"SL.ranger\"),\n",
        "  cvControl = list(V = length(v_raw), validRows = v_raw),\n",
        "  #number_cores = 2,\n",
        "  seed = 1234\n",
        ")\n",
        "end_time <- Sys.time()\n",
        "end_time - start_time\n",
        "## when number_cores is missing, it will indicate user to set one based on the operation system.\n",
        "\n",
        "#You have 2 cpu cores, How many cpu core you want to use:\n",
        "# type the number to continue the process."
      ],
      "metadata": {
        "id": "ZM_wUJ1YgU6d"
      },
      "execution_count": null,
      "outputs": []
    },
    {
      "cell_type": "code",
      "source": [
        "# prediction for testing dataset\n",
        "pred_model2 <- deeper::predict(object = model2, newX = testset[, x])"
      ],
      "metadata": {
        "id": "Xu6X36kxg6fB"
      },
      "execution_count": null,
      "outputs": []
    },
    {
      "cell_type": "markdown",
      "source": [
        "## 3. Stacking meta models\n",
        "\n",
        "After assessing the performances of base models, we now can move forward to the DEML by stacking meta models on it."
      ],
      "metadata": {
        "id": "sYmrMcq5g-5T"
      }
    },
    {
      "cell_type": "code",
      "source": [
        "#Do include original feature\n",
        "#object do not include newX dataset\n",
        "\n",
        "## the training results\n",
        "\n",
        "cat(\"Training model results\")\n",
        "model3_stack <-\n",
        "  stack_ensemble(\n",
        "    object = model1,\n",
        "    meta_model = c(\"SL.ranger\", \"SL.xgboost\", \"SL.glm\"),\n",
        "    original_feature = FALSE,\n",
        "    #X = trainset[, x]\n",
        "  )\n",
        "#model3_stack$stack_ensemble_value\n",
        "\n",
        "# Independent testing results\n",
        "model3_DEML <-\n",
        "  deeper::predict(object = model3_stack, newX = testset[, x])\n",
        "cat(\"\\n\")\n",
        "cat(\"\\n\")\n",
        "cat(\"Independent testing results\")\n",
        "cat(\"\\n\")\n",
        "print(apply(\n",
        "  X = cbind(model3_DEML$pre_meta$library.predict,\n",
        "        model3_DEML$pre_meta$pred),\n",
        "  MARGIN = 2,\n",
        "  FUN = caret::R2,\n",
        "  obs = testset[, y]\n",
        "))\n",
        "\n",
        "print(apply(\n",
        "  X = cbind(model3_DEML$pre_meta$library.predict,\n",
        "        model3_DEML$pre_meta$pred),\n",
        "  MARGIN = 2,\n",
        "  FUN = caret::RMSE,\n",
        "  obs = testset[, y]\n",
        "))"
      ],
      "metadata": {
        "id": "JNRbZTpRhARZ"
      },
      "execution_count": null,
      "outputs": []
    },
    {
      "cell_type": "markdown",
      "source": [
        "## 3.1 Stacked meta models from scratch\n",
        "\n",
        "We can create DEML directly by setting the base models and meta models. But considering the unknown impact of the underlying model and computation time, this is not recommended."
      ],
      "metadata": {
        "id": "LIDpYqaKhvOB"
      }
    },
    {
      "cell_type": "code",
      "source": [
        "model4_stack <-\n",
        "  stack_ensemble.fit(\n",
        "    Y = trainset[, y],\n",
        "    X = trainset[, x],\n",
        "    base_model = c(\"SL.xgboost\", ranger),\n",
        "    meta_model = c(\"SL.ranger\", \"SL.xgboost\", \"SL.glm\"),\n",
        "    original_feature = FALSE\n",
        "  )"
      ],
      "metadata": {
        "id": "TFf0qgdQhyij"
      },
      "execution_count": null,
      "outputs": []
    },
    {
      "cell_type": "markdown",
      "source": [
        "## 3.2 Stacked meta models with paralleling computing\n",
        "\n",
        "We also accelerate the calculation with paralleling computing in DEML. \n",
        "\n",
        "Several key points are worthy to note:\n",
        "\n",
        "- If the base model used parallel computing, the meta-model also needs to be parallel.\n",
        "\n",
        "- When setting a specific CV index, please be consistent in meta-model training.\n",
        "\n",
        "- Do not use all of your computation cores to do paralleling. Leave at least one for your operating system.\n",
        "\n",
        "- 'Original_feature' is optional. It may generally improve your model performance but increase the computational complexity."
      ],
      "metadata": {
        "id": "OM3aFtvYh0ka"
      }
    },
    {
      "cell_type": "code",
      "source": [
        "#Do not include original feature\n",
        "\n",
        "start_time <- Sys.time()\n",
        "model5_stack <-\n",
        "  stack_ensemble_parallel(\n",
        "    object = model2,\n",
        "    Y = trainset[, y],\n",
        "    meta_model = c(\"SL.glm\",\"SL.ranger\"),\n",
        "    original_feature = FALSE,\n",
        "    cvControl = list(V = length(v_raw), validRows = v_raw),\n",
        "    number_cores = 2\n",
        "  )\n",
        "end_time <- Sys.time()\n",
        "end_time - start_time\n",
        "# the training results\n",
        "\n",
        "# the testing results\n",
        "pred_model5_stack <-\n",
        "  deeper::predict(object = model5_stack, newX = testset[, x])"
      ],
      "metadata": {
        "id": "UCTj11L6h7op"
      },
      "execution_count": null,
      "outputs": []
    },
    {
      "cell_type": "markdown",
      "source": [
        "# Challenging 3\n",
        "\n",
        "Tasks:\n",
        "\n",
        "1. Stacking meta models  using RF and Xgboost (with original features) in Sydeny data to conduct DEML model\n",
        "\n",
        "2. Achieving the final DEML model performance R2 in testing dataset\n",
        "\n",
        "```r\n",
        "#try it here\n",
        "```\n"
      ],
      "metadata": {
        "id": "njAU-XvxjYDo"
      }
    },
    {
      "cell_type": "markdown",
      "source": [
        "## 3.3 Using DEML to estimate the grid cell data\n",
        "\n",
        "The same as the base model prediction, we use 'deeper::predict()' function to use the established DEML model to estimate the grid cell air pollutant.\n",
        "\n",
        "**Note: Please make sure all grid input data should keep the same data structure and variable types with the training data. Using 'attr.all.equal' to test the similarity.**\n",
        "\n",
        "**Tips: Using 'tidyverse::bind_rows' to combine the training data and grid data first. And then splitting the grid data for prediction can always help to keep the same structure with training data.**\n",
        "\n",
        "# Challenging 4\n",
        "Download and load the Sydney gridded cell NO2 data \"predictor_scaled_no2_gsyd_10km_2005_2018_WY3.csv\" in Google COlab by steps:\n",
        "\n",
        "Click file in the left side> Upload to session storage > choose the file > OK\n",
        "\n",
        "\n",
        "Task:\n",
        "\n",
        "To estimate 10km grid cell yearly NO2 in Sydney.\n",
        "\n",
        "```r\n",
        "#try it here\n",
        "```"
      ],
      "metadata": {
        "id": "vplGLasVjdkh"
      }
    },
    {
      "cell_type": "code",
      "source": [
        "# load the grid cell dataset\n",
        "\n",
        "predictor_scaled_no2_gsyd_10km_2005_2018 <- read.csv(file = \"predictor_scaled_no2_gsyd_10km_2005_2018_WY3.csv\")\n",
        "\n",
        "predictor_scaled_no2_gsyd_10km_2005_2018$year <- as.factor(predictor_scaled_no2_gsyd_10km_2005_2018$year)\n",
        "\n",
        "# estimate grid cell NO2 using the model created in Challenging 2\n"
      ],
      "metadata": {
        "id": "wbHsS9uommYV"
      },
      "execution_count": null,
      "outputs": []
    },
    {
      "cell_type": "markdown",
      "source": [
        "## 4. Plot the results\n",
        "\n",
        "We can finally have the scatter plot using 'assess.plot' function in deeper."
      ],
      "metadata": {
        "id": "G5PtQPd_jlWo"
      }
    },
    {
      "cell_type": "code",
      "source": [
        "plot_DEML <-\n",
        "  assess.plot(pre = model3_DEML$pre_meta$pred, obs = testset[, y])\n"
      ],
      "metadata": {
        "id": "90zj3H0tjoiD"
      },
      "execution_count": null,
      "outputs": []
    },
    {
      "cell_type": "code",
      "source": [
        "#install.packages(\"hexbin\")\n",
        "#library(hexbin)\n",
        "plot_DEML$plot"
      ],
      "metadata": {
        "id": "eee9EO6sx3L4"
      },
      "execution_count": null,
      "outputs": []
    },
    {
      "cell_type": "markdown",
      "source": [
        "# **Demostrate the deeper GUI by Liam**"
      ],
      "metadata": {
        "id": "zJqJSbESLxjs"
      }
    },
    {
      "cell_type": "markdown",
      "source": [
        "Please install a deeper GUI software [here](https://alven8816.github.io/DEEPER_with_R_workshop_20220908/)"
      ],
      "metadata": {
        "id": "2FYco_VmMLQo"
      }
    },
    {
      "cell_type": "markdown",
      "source": [
        "# Citation\n",
        "\n",
        "Wenhua Yu, Shanshan Li, Tingting Ye,Rongbin Xu, Jiangning Song, Yuming Guo (2022) Deep ensemble machine learning framework for the estimation of PM2.5 concentrations,Environmental health perspectives: [https://doi.org/10.1289/EHP9752](https://doi.org/10.1289/EHP9752)"
      ],
      "metadata": {
        "id": "slYmv6gwjq2b"
      }
    }
  ]
}